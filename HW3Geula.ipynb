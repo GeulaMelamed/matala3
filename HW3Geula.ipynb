{
 "cells": [
  {
   "cell_type": "markdown",
   "metadata": {},
   "source": [
    "# HW3"
   ]
  },
  {
   "cell_type": "code",
   "execution_count": 81,
   "metadata": {},
   "outputs": [],
   "source": [
    "import requests\n",
    "import pandas as pd"
   ]
  },
  {
   "cell_type": "markdown",
   "metadata": {},
   "source": [
    "## 1"
   ]
  },
  {
   "cell_type": "code",
   "execution_count": 85,
   "metadata": {},
   "outputs": [],
   "source": [
    "# Read the destinations from the text file\n",
    "with open('dests.txt', 'r') as file:\n",
    "    destinations = file.read().splitlines()\n",
    "\n",
    "# Initialize empty lists to store the data\n",
    "distances = []\n",
    "durations = []\n",
    "latitudes = []\n",
    "longitudes = []\n",
    "\n",
    "# API endpoint URLs\n",
    "distance_api_url = 'https://maps.googleapis.com/maps/api/distancematrix/json'\n",
    "geocode_api_url = 'https://maps.googleapis.com/maps/api/geocode/json'\n",
    "api_key = 'Replace with your own API key'\n",
    "\n",
    "# API parameters\n",
    "params = {\n",
    "    'units': 'metric',\n",
    "    'origins': 'Tel Aviv',\n",
    "    'key': api_key \n",
    "}\n",
    "\n",
    "# Iterate over each destination\n",
    "for destination in destinations:\n",
    "    # Set the destination parameter\n",
    "    params['destinations'] = destination\n",
    "    \n",
    "    try:\n",
    "        # Send request to Distance Matrix API\n",
    "        response = requests.get(distance_api_url, params=params)\n",
    "        if not response.status_code == 200:\n",
    "            print(\"HTTP error\",response.status_code)\n",
    "        else:\n",
    "            try:\n",
    "                data = response.json()\n",
    "                # Retrieve the distance and duration values\n",
    "                distance = data['rows'][0]['elements'][0]['distance']['value']/1000\n",
    "                duration = data['rows'][0]['elements'][0]['duration']['value']/60\n",
    "    \n",
    "                duration_hours = int(duration// 60)  # Calculate the whole number of hours\n",
    "                duration_minutes = round(duration%60)  # Calculate the remaining minutes\n",
    "\n",
    "    \n",
    "                # Append the values to the respective lists\n",
    "                distances.append(distance)\n",
    "                durations.append(f\"{duration_hours} hours {duration_minutes} minutes\")\n",
    "            except:\n",
    "                print(\"Response not in valid JSON format\")\n",
    "    except:\n",
    "        print(\"Something went wrong with requests.get\")\n",
    "    \n",
    "    # Send request to Geocoding API\n",
    "    geocode_params = {\n",
    "        'address': destination,\n",
    "        'key': api_key  \n",
    "    }\n",
    "    try:\n",
    "        geocode_response = requests.get(geocode_api_url, params=geocode_params)\n",
    "        if not response.status_code == 200:\n",
    "            print(\"HTTP error\",response.status_code)\n",
    "        else:\n",
    "            try:\n",
    "                geocode_data = geocode_response.json()\n",
    "    \n",
    "                # Retrieve the latitude and longitude values\n",
    "                latitude = geocode_data['results'][0]['geometry']['location']['lat']\n",
    "                longitude = geocode_data['results'][0]['geometry']['location']['lng']\n",
    "    \n",
    "                # Append the values to the respective lists\n",
    "                latitudes.append(latitude)\n",
    "                longitudes.append(longitude)\n",
    "            except:\n",
    "                print(\"Response not in valid JSON format\")\n",
    "    except:\n",
    "        print(\"Something went wrong with requests.get\")\n",
    "    \n",
    "\n",
    "# Create a dataframe with the collected data\n",
    "data = {\n",
    "    'Target': destinations,\n",
    "    'Distance_km': distances,\n",
    "    'Duration (hour+minutes)': durations,\n",
    "    'Longitude': longitudes,\n",
    "    'latitude': latitudes\n",
    "}\n",
    "df = pd.DataFrame(data)\n"
   ]
  },
  {
   "cell_type": "code",
   "execution_count": 86,
   "metadata": {},
   "outputs": [
    {
     "data": {
      "text/html": [
       "<div>\n",
       "<style scoped>\n",
       "    .dataframe tbody tr th:only-of-type {\n",
       "        vertical-align: middle;\n",
       "    }\n",
       "\n",
       "    .dataframe tbody tr th {\n",
       "        vertical-align: top;\n",
       "    }\n",
       "\n",
       "    .dataframe thead th {\n",
       "        text-align: right;\n",
       "    }\n",
       "</style>\n",
       "<table border=\"1\" class=\"dataframe\">\n",
       "  <thead>\n",
       "    <tr style=\"text-align: right;\">\n",
       "      <th></th>\n",
       "      <th>Target</th>\n",
       "      <th>Distance_km</th>\n",
       "      <th>Duration (hour+minutes)</th>\n",
       "      <th>Longitude</th>\n",
       "      <th>latitude</th>\n",
       "    </tr>\n",
       "  </thead>\n",
       "  <tbody>\n",
       "    <tr>\n",
       "      <th>0</th>\n",
       "      <td>Istanbul</td>\n",
       "      <td>1815.227</td>\n",
       "      <td>21 hours 3 minutes</td>\n",
       "      <td>28.978359</td>\n",
       "      <td>41.008238</td>\n",
       "    </tr>\n",
       "    <tr>\n",
       "      <th>1</th>\n",
       "      <td>Amsterdam</td>\n",
       "      <td>4532.541</td>\n",
       "      <td>48 hours 3 minutes</td>\n",
       "      <td>4.904139</td>\n",
       "      <td>52.367573</td>\n",
       "    </tr>\n",
       "    <tr>\n",
       "      <th>2</th>\n",
       "      <td>Valletta</td>\n",
       "      <td>3792.882</td>\n",
       "      <td>50 hours 53 minutes</td>\n",
       "      <td>14.514100</td>\n",
       "      <td>35.899237</td>\n",
       "    </tr>\n",
       "    <tr>\n",
       "      <th>3</th>\n",
       "      <td>Basel</td>\n",
       "      <td>4118.225</td>\n",
       "      <td>44 hours 10 minutes</td>\n",
       "      <td>7.588576</td>\n",
       "      <td>47.559599</td>\n",
       "    </tr>\n",
       "    <tr>\n",
       "      <th>4</th>\n",
       "      <td>Doha</td>\n",
       "      <td>2164.477</td>\n",
       "      <td>22 hours 39 minutes</td>\n",
       "      <td>51.531040</td>\n",
       "      <td>25.285447</td>\n",
       "    </tr>\n",
       "  </tbody>\n",
       "</table>\n",
       "</div>"
      ],
      "text/plain": [
       "      Target  Distance_km Duration (hour+minutes)  Longitude   latitude\n",
       "0   Istanbul     1815.227      21 hours 3 minutes  28.978359  41.008238\n",
       "1  Amsterdam     4532.541      48 hours 3 minutes   4.904139  52.367573\n",
       "2   Valletta     3792.882     50 hours 53 minutes  14.514100  35.899237\n",
       "3      Basel     4118.225     44 hours 10 minutes   7.588576  47.559599\n",
       "4       Doha     2164.477     22 hours 39 minutes  51.531040  25.285447"
      ]
     },
     "execution_count": 86,
     "metadata": {},
     "output_type": "execute_result"
    }
   ],
   "source": [
    "df"
   ]
  },
  {
   "cell_type": "markdown",
   "metadata": {},
   "source": [
    "## 2"
   ]
  },
  {
   "cell_type": "code",
   "execution_count": 87,
   "metadata": {},
   "outputs": [
    {
     "data": {
      "text/plain": [
       "0    Amsterdam\n",
       "1        Basel\n",
       "2     Valletta\n",
       "Name: Target, dtype: object"
      ]
     },
     "execution_count": 87,
     "metadata": {},
     "output_type": "execute_result"
    }
   ],
   "source": [
    "# Sort the dataframe by distance in descending order\n",
    "sorted_df = df.sort_values(by='Distance_km', ascending=False)\n",
    "\n",
    "# Get the top 3 cities furthest from Tel Aviv\n",
    "furthest_cities = sorted_df.head(3)\n",
    "furthest_cities  = furthest_cities.reset_index(drop=True)\n",
    "furthest_cities['Target']"
   ]
  }
 ],
 "metadata": {
  "kernelspec": {
   "display_name": "Python 3",
   "language": "python",
   "name": "python3"
  },
  "language_info": {
   "codemirror_mode": {
    "name": "ipython",
    "version": 3
   },
   "file_extension": ".py",
   "mimetype": "text/x-python",
   "name": "python",
   "nbconvert_exporter": "python",
   "pygments_lexer": "ipython3",
   "version": "3.8.3"
  }
 },
 "nbformat": 4,
 "nbformat_minor": 4
}
